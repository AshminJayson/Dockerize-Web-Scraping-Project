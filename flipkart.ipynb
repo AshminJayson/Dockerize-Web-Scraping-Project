{
 "cells": [
  {
   "cell_type": "code",
   "execution_count": 219,
   "metadata": {},
   "outputs": [],
   "source": [
    "import requests\n",
    "import bs4\n",
    "from bs4 import BeautifulSoup\n",
    "import pandas as pd\n"
   ]
  },
  {
   "cell_type": "code",
   "execution_count": 220,
   "metadata": {},
   "outputs": [],
   "source": [
    "cardClass = '_1xHGtK'\n",
    "nameCard='_2WkVRV'\n",
    "descriptionClass='IRpwTa'\n",
    "priceClass=\"_30jeq\"\n",
    "imageClass='CXW8mj'"
   ]
  },
  {
   "cell_type": "markdown",
   "metadata": {},
   "source": [
    "itemName ='%20'.join(input().split())\n"
   ]
  },
  {
   "cell_type": "code",
   "execution_count": 221,
   "metadata": {},
   "outputs": [],
   "source": [
    "itemName= 'pants'\n",
    "itemName='%20'.join(itemName.split())\n"
   ]
  },
  {
   "cell_type": "code",
   "execution_count": 222,
   "metadata": {},
   "outputs": [],
   "source": [
    "itemPage=requests.get(f'https://www.flipkart.com/search?q={itemName}').content\n",
    "idk = BeautifulSoup(itemPage,'html.parser')\n"
   ]
  },
  {
   "cell_type": "code",
   "execution_count": 223,
   "metadata": {},
   "outputs": [],
   "source": [
    "def setlist(item,nameCard):\n",
    "    name=item.find('div',class_=nameCard).text\n",
    "    dis=item.find('a',class_=descriptionClass)['title']\n",
    "    return [name,dis ]\n",
    "    "
   ]
  },
  {
   "cell_type": "code",
   "execution_count": 224,
   "metadata": {},
   "outputs": [],
   "source": [
    "file=open('temp.txt','w')"
   ]
  },
  {
   "cell_type": "code",
   "execution_count": 225,
   "metadata": {},
   "outputs": [],
   "source": [
    "itemCards=idk.find_all('div',class_=cardClass)\n"
   ]
  },
  {
   "cell_type": "code",
   "execution_count": 226,
   "metadata": {},
   "outputs": [
    {
     "name": "stdout",
     "output_type": "stream",
     "text": [
      "[['PETER ENGLAND', 'Men Skinny Fit Green Cotton Blend Trousers'], ['PETER ENGLAND', 'Men Slim Fit Black Cotton Blend Trousers'], ['INDIAN TERRAIN', 'Brooklyn Men Slim Fit Black Cotton Blend Trousers'], ['PARK AVENUE', 'Men Regular Fit Black Viscose Rayon Trousers'], ['Roadster', 'Men Slim Fit Beige Cotton Blend Trousers'], ['Allen Solly', 'Men Slim Fit Grey Cotton Blend Trousers'], ['ELANHOOD', 'Men Regular Fit Black Cotton Blend Trousers'], ['PETER ENGLAND', 'Men Regular Fit Dark Green Polycotton Trousers'], ['ELANHOOD', 'Men Regular Fit Black Cotton Blend Trousers'], ['KOTTY', 'Women Regular Fit Dark Green Viscose Rayon Trousers'], ['ADDYVERO', 'Women Regular Fit Black Cotton Blend Trousers'], ['U.S. POLO ASSN.', 'Men Slim Fit Grey Pure Cotton Trousers'], ['KOTTY', 'Women Regular Fit Black Viscose Rayon Trousers'], ['KOTTY', 'Women Regular Fit Orange Viscose Rayon Trousers'], ['KOTTY', 'Women Regular Fit Black Cotton Blend Trousers'], ['PETER ENGLAND', 'Men Skinny Fit Dark Blue Cotton Blend Trousers'], ['VEDANA', 'Women Regular Fit Cream Cotton Blend Trousers'], ['BEN MARTIN', 'Men Slim Mid Rise Light Blue Jeans'], ['CYPHUS', 'Men Regular Fit Black Cotton Blend Trousers'], ['PETER ENGLAND', 'Men Slim Fit Dark Blue Polycotton Trousers'], ['VAN HEUSEN SPORT', 'Men Slim Fit Khaki Cotton Blend Trousers'], ['FUBAR', 'Men Slim Fit Pink Cotton Blend Trousers'], ['Majestic Man', 'Men Slim Fit Light Blue Cotton Blend Trousers'], ['PETER ENGLAND', 'Men Skinny Fit Grey Cotton Blend Trousers'], ['MOONVELLY', 'Men Regular Fit Blue Lycra Blend Trousers'], ['KOTTY', 'Women Regular Fit Brown Cotton Blend Trousers'], ['KOTTY', 'Women Regular Fit Green Viscose Rayon Trousers'], ['VAN HEUSEN', 'Men Slim Fit Dark Blue Viscose Rayon Trousers'], ['KOTTY', 'Women Regular Fit Black Viscose Rayon Trousers'], ['KOTTY', 'Women Regular Fit Black Viscose Rayon Trousers'], ['SASSAFRAS', 'Women Relaxed Black Cotton Blend Trousers'], ['PETER ENGLAND', 'Men Slim Fit Grey Cotton Blend Trousers'], ['Q-Rious', 'Women Regular Fit Pink Cotton Blend Trousers'], ['BEN MARTIN', 'Men Regular Mid Rise White Jeans'], ['PROTOCOL', 'Men Slim Fit Blue Pure Cotton Trousers'], ['PETER ENGLAND', 'Men Skinny Fit Dark Green Cotton Blend Trousers'], ['MOONVELLY', 'Men Regular Fit Grey Lycra Blend Trousers'], ['CYPHUS', 'Men Regular Fit Grey Cotton Blend Trousers'], ['FUBAR', 'Men Slim Fit Blue Cotton Blend Trousers'], ['PETER ENGLAND', 'Men Regular Fit Black Polycotton Trousers']]\n"
     ]
    }
   ],
   "source": [
    "itemList = [setlist(item,nameCard) for item in itemCards]\n",
    "\n",
    "print(itemList)\n",
    "a=pd.DataFrame(itemList)\n",
    "a.to_excel('data.xlsx')\n"
   ]
  }
 ],
 "metadata": {
  "kernelspec": {
   "display_name": "Python 3",
   "language": "python",
   "name": "python3"
  },
  "language_info": {
   "codemirror_mode": {
    "name": "ipython",
    "version": 3
   },
   "file_extension": ".py",
   "mimetype": "text/x-python",
   "name": "python",
   "nbconvert_exporter": "python",
   "pygments_lexer": "ipython3",
   "version": "3.11.1"
  },
  "orig_nbformat": 4
 },
 "nbformat": 4,
 "nbformat_minor": 2
}
