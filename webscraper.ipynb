{
 "cells": [
  {
   "cell_type": "code",
   "execution_count": 61,
   "metadata": {},
   "outputs": [],
   "source": [
    "from selenium import webdriver\n",
    "from bs4 import BeautifulSoup\n",
    "import pandas as pd\n",
    "import requests\n",
    "import matplotlib.pyplot as plt\n"
   ]
  },
  {
   "cell_type": "code",
   "execution_count": 62,
   "metadata": {},
   "outputs": [],
   "source": [
    "url ='https://www.flipkart.com/search?q=laptop&otracker=search&otracker1=search&marketplace=FLIPKART&as-show=off&as=off'\n",
    "req= requests.get(url)\n"
   ]
  },
  {
   "cell_type": "code",
   "execution_count": 92,
   "metadata": {},
   "outputs": [
    {
     "name": "stdout",
     "output_type": "stream",
     "text": [
      "24 31\n"
     ]
    },
    {
     "ename": "ValueError",
     "evalue": "invalid literal for int() with base 10: '86,990'",
     "output_type": "error",
     "traceback": [
      "\u001b[1;31m---------------------------------------------------------------------------\u001b[0m",
      "\u001b[1;31mValueError\u001b[0m                                Traceback (most recent call last)",
      "Cell \u001b[1;32mIn[92], line 24\u001b[0m\n\u001b[0;32m     22\u001b[0m price1\u001b[39m=\u001b[39m[]\n\u001b[0;32m     23\u001b[0m \u001b[39mfor\u001b[39;00m i \u001b[39min\u001b[39;00m obj:\n\u001b[1;32m---> 24\u001b[0m     name1\u001b[39m.\u001b[39mappend(\u001b[39mint\u001b[39;49m(i[\u001b[39m0\u001b[39;49m]))\n\u001b[0;32m     25\u001b[0m     price1\u001b[39m.\u001b[39mappend(i[\u001b[39m1\u001b[39m])\n",
      "\u001b[1;31mValueError\u001b[0m: invalid literal for int() with base 10: '86,990'"
     ]
    }
   ],
   "source": [
    "soup = BeautifulSoup(req.content,'html.parser')\n",
    "#print(soup.prettify())\n",
    "aert = soup.find_all('div',{'class':'_1AtVbE'})\n",
    "l='<div class=\"_4rR01T\">'\n",
    "name=[]\n",
    "prices=[]\n",
    "for i in aert:\n",
    "    price=i.find('div',{'class':'_30jeq3'})\n",
    "    l=i.find('div',{'class':'_4rR01T'})\n",
    "    name.append(str(l)[21:str(l).find('-')])\n",
    "    prices.append(str(price)[str(price).find('>')+2:str(price).find('</')])\n",
    "\n",
    "while '' in name: \n",
    "    name.remove('')\n",
    "while '' in prices:\n",
    "    prices.remove('')\n",
    "print(len(name),len(prices))\n",
    "x = [i for i in prices if i != 'on']\n",
    "obj=[i for i in zip(x, name)]\n",
    "obj.sort(key=lambda x:x[0],reverse=True)\n",
    "name1=[]\n",
    "price1=[]\n",
    "for i in obj:\n",
    "    name1.append(int(i[0]))\n",
    "    price1.append(i[1])\n",
    "\n",
    "    \n"
   ]
  },
  {
   "cell_type": "code",
   "execution_count": 88,
   "metadata": {},
   "outputs": [],
   "source": [
    "df = pd.DataFrame({'Product Name':name1,'Price':price1}) \n",
    "df.to_csv('products.csv', index=False, encoding='utf-8')"
   ]
  }
 ],
 "metadata": {
  "kernelspec": {
   "display_name": "Python 3",
   "language": "python",
   "name": "python3"
  },
  "language_info": {
   "codemirror_mode": {
    "name": "ipython",
    "version": 3
   },
   "file_extension": ".py",
   "mimetype": "text/x-python",
   "name": "python",
   "nbconvert_exporter": "python",
   "pygments_lexer": "ipython3",
   "version": "3.11.1"
  },
  "orig_nbformat": 4
 },
 "nbformat": 4,
 "nbformat_minor": 2
}
