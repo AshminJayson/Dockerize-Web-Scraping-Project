{
 "cells": [
  {
   "cell_type": "code",
   "execution_count": 61,
   "metadata": {},
   "outputs": [],
   "source": [
    "from selenium import webdriver\n",
    "from bs4 import BeautifulSoup\n",
    "import pandas as pd\n",
    "import requests"
   ]
  },
  {
   "cell_type": "code",
   "execution_count": 62,
   "metadata": {},
   "outputs": [],
   "source": [
    "url ='https://www.flipkart.com/search?q=laptop&otracker=search&otracker1=search&marketplace=FLIPKART&as-show=off&as=off'\n",
    "req= requests.get(url)\n"
   ]
  },
  {
   "cell_type": "code",
   "execution_count": 79,
   "metadata": {},
   "outputs": [
    {
     "name": "stdout",
     "output_type": "stream",
     "text": [
      "24 31\n",
      "('₹33,990', 'Lenovo IdeaPad 3 Core i3 11th Gen ')\n",
      "('₹60,890', 'DELL Inspiron Core i5 11th Gen ')\n",
      "('₹49,990', 'ASUS TUF Gaming F15 Core i5 10th Gen ')\n",
      "('₹36,990', 'HP 14s Intel Core i3 11th Gen ')\n",
      "('₹18,990', 'Lenovo Athlon Dual Core ')\n",
      "('₹53,990', 'ASUS TUF Gaming A17 with 90Whr Battery Ryzen 5 Hexa Core AMD R5')\n",
      "('₹37,990', 'DELL Vostro Core i3 11th Gen ')\n",
      "('₹40,490', 'Lenovo IdeaPad 3 Core i3 11th Gen ')\n",
      "('₹23,990', 'ASUS VivoBook 14 (2021) Celeron Dual Core ')\n",
      "('₹26,990', 'acer Aspire 3 Ryzen 3 Dual Core 3250U ')\n",
      "('₹29,990', 'Infinix INBook Y1 Plus Intel Core i3 10th Gen ')\n",
      "('₹38,790', 'DELL Ryzen 3 Quad Core 5425U ')\n",
      "('₹44,990', 'HP 15s Intel Core i3 12th Gen ')\n",
      "('₹39,990', 'RedmiBook Pro Core i5 11th Gen ')\n",
      "('₹67,990', 'ASUS TUF Gaming A17 with 90Whr Battery Ryzen 7 Octa Core AMD R7')\n",
      "('₹62,518', 'Lenovo IdeaPad Flex 5 Ryzen 5 Hexa Core 5500U ')\n",
      "('₹86,990', 'APPLE 2020 Macbook Air M1 ')\n",
      "('₹52,990', 'HP Intel Core i5 11th Gen ')\n",
      "('₹38,990', 'ASUS VivoBook 14 (2022) Ryzen 5 Quad Core AMD R5')\n",
      "('₹38,517', 'Lenovo Lenovo IdeaPad Slim 3 Intel Core i3 11th Gen ')\n",
      "('₹66,190', 'DELL Vostro Core i5 12th Gen ')\n",
      "('₹46,990', 'ASUS VivoBook K15 OLED (2022) Ryzen 5 Hexa Core AMD R5')\n",
      "('₹40,450', 'HP 15s Intel Core i3 11th Gen ')\n",
      "('₹58,490', 'DELL Core i5 11th Gen ')\n"
     ]
    }
   ],
   "source": [
    "soup = BeautifulSoup(req.content,'html.parser')\n",
    "#print(soup.prettify())\n",
    "aert = soup.find_all('div',{'class':'_1AtVbE'})\n",
    "l='<div class=\"_4rR01T\">'\n",
    "name=[]\n",
    "prices=[]\n",
    "for i in aert:\n",
    "    price=i.find('div',{'class':'_30jeq3'})\n",
    "    l=i.find('div',{'class':'_4rR01T'})\n",
    "    name.append(str(l)[21:str(l).find('-')])\n",
    "    prices.append(str(price)[str(price).find('>')+1:str(price).find('</')])\n",
    "\n",
    "while '' in name: \n",
    "    name.remove('')\n",
    "while '' in prices:\n",
    "    prices.remove('')\n",
    "print(len(name),len(prices))\n",
    "x = [i for i in prices if i != 'Non']\n",
    "obj=[i for i in zip(x, name)]\n",
    "for i in obj:\n",
    "    print(i)\n",
    "    \n"
   ]
  },
  {
   "cell_type": "code",
   "execution_count": null,
   "metadata": {},
   "outputs": [],
   "source": []
  }
 ],
 "metadata": {
  "kernelspec": {
   "display_name": "Python 3",
   "language": "python",
   "name": "python3"
  },
  "language_info": {
   "codemirror_mode": {
    "name": "ipython",
    "version": 3
   },
   "file_extension": ".py",
   "mimetype": "text/x-python",
   "name": "python",
   "nbconvert_exporter": "python",
   "pygments_lexer": "ipython3",
   "version": "3.11.1"
  },
  "orig_nbformat": 4
 },
 "nbformat": 4,
 "nbformat_minor": 2
}
